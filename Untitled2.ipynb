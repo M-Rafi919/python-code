{
  "nbformat": 4,
  "nbformat_minor": 0,
  "metadata": {
    "colab": {
      "provenance": [],
      "authorship_tag": "ABX9TyMLf5ezqxzFaBmvmtbXG/oO",
      "include_colab_link": true
    },
    "kernelspec": {
      "name": "python3",
      "display_name": "Python 3"
    },
    "language_info": {
      "name": "python"
    }
  },
  "cells": [
    {
      "cell_type": "markdown",
      "metadata": {
        "id": "view-in-github",
        "colab_type": "text"
      },
      "source": [
        "<a href=\"https://colab.research.google.com/github/M-Rafi919/python-code/blob/main/Untitled2.ipynb\" target=\"_parent\"><img src=\"https://colab.research.google.com/assets/colab-badge.svg\" alt=\"Open In Colab\"/></a>"
      ]
    },
    {
      "cell_type": "markdown",
      "source": [
        "**Python** **If**\n",
        "\n",
        "```\n",
        "# This is formatted as code\n",
        "```\n",
        "\n",
        "... **Else**\n",
        "Python Conditions and If statements"
      ],
      "metadata": {
        "id": "KrVMMBuXb0zL"
      }
    },
    {
      "cell_type": "markdown",
      "source": [
        "Equals: a == b\n",
        "Not Equals: a != b\n",
        "Less than: a < b\n",
        "Less than or equal to: a <= b\n",
        "Greater than: a > b\n",
        "Greater than or equal to: a >= b"
      ],
      "metadata": {
        "id": "fqHHYiLocoUR"
      }
    },
    {
      "cell_type": "code",
      "source": [
        "a = 33\n",
        "b = 200\n",
        "if b > a:\n",
        "  print(\"b is greater than a\")"
      ],
      "metadata": {
        "colab": {
          "base_uri": "https://localhost:8080/"
        },
        "id": "28fswd87cifx",
        "outputId": "cf765cf3-2049-42a0-9619-70c31c82ea7e"
      },
      "execution_count": 27,
      "outputs": [
        {
          "output_type": "stream",
          "name": "stdout",
          "text": [
            "b is greater than a\n"
          ]
        }
      ]
    },
    {
      "cell_type": "markdown",
      "source": [
        "Example 2"
      ],
      "metadata": {
        "id": "0nJU083zc-zY"
      }
    },
    {
      "cell_type": "code",
      "source": [
        "a = 33\n",
        "b = 200\n",
        "if b > a:\n",
        "  print(\"b is greater than a\")"
      ],
      "metadata": {
        "colab": {
          "base_uri": "https://localhost:8080/"
        },
        "id": "RV2z-WX4dETb",
        "outputId": "76a8e956-188d-4ce1-b0fb-e88678376c63"
      },
      "execution_count": 28,
      "outputs": [
        {
          "output_type": "stream",
          "name": "stdout",
          "text": [
            "b is greater than a\n"
          ]
        }
      ]
    },
    {
      "cell_type": "markdown",
      "source": [
        "You're absolutely right! Python uses indentation, specifically whitespace at the beginning of a line, to define the scope of code blocks, such as loops, conditionals, and functions. This is one of the distinctive features of the Python programming language.\n",
        "\n",
        "Unlike some other languages that use curly brackets ({}) or other symbols to denote the beginning and end of code blocks, Python uses consistent indentation to indicate the hierarchy and nesting of statements. This helps improve code readability and enforces a standardized structure.\n",
        "\n",
        "Here's an example to illustrate how indentation is used in Python:\n",
        "\n",
        "```python\n",
        "if condition:\n",
        "    # This block is indented under the \"if\" statement\n",
        "    statement1\n",
        "    statement2\n",
        "    # ...\n",
        "    statementN\n",
        "else:\n",
        "    # This block is indented under the \"else\" statement\n",
        "    statementA\n",
        "    statementB\n",
        "    # ...\n",
        "    statementZ\n",
        "```\n",
        "\n",
        "In the above example, the statements indented under the `if` and `else` blocks are executed conditionally based on the outcome of the `condition`. The consistent indentation level indicates the scope of each block.\n",
        "\n",
        "It's important to note that Python relies on spaces or tabs for indentation, but it's essential to be consistent throughout your codebase to avoid any potential errors."
      ],
      "metadata": {
        "id": "fteKb7AUdTmB"
      }
    },
    {
      "cell_type": "code",
      "source": [
        "a = 33\n",
        "b = 200\n",
        "if b > a:\n",
        "  print(\"b is greater than a\")"
      ],
      "metadata": {
        "colab": {
          "base_uri": "https://localhost:8080/"
        },
        "id": "htUYuJP_dd7x",
        "outputId": "c5c71ba5-7ac2-4a4a-f17c-1173494506b7"
      },
      "execution_count": 30,
      "outputs": [
        {
          "output_type": "stream",
          "name": "stdout",
          "text": [
            "b is greater than a\n"
          ]
        }
      ]
    },
    {
      "cell_type": "markdown",
      "source": [
        "That's correct! In Python, the `elif` keyword is used to introduce an additional conditional branch that is checked if the previous `if` or `elif` conditions were not met. It's essentially a shorthand for \"else if\" in other programming languages.\n",
        "\n",
        "Here's an example to demonstrate the usage of `elif`:\n",
        "\n",
        "```python\n",
        "if condition1:\n",
        "    # Executes when condition1 is true\n",
        "    statement1\n",
        "elif condition2:\n",
        "    # Executes when condition1 is false and condition2 is true\n",
        "    statement2\n",
        "elif condition3:\n",
        "    # Executes when both condition1 and condition2 are false, and condition3 is true\n",
        "    statement3\n",
        "else:\n",
        "    # Executes when none of the above conditions are true\n",
        "    statement4\n",
        "```\n",
        "\n",
        "In the example above, the conditions are evaluated sequentially. If `condition1` is true, `statement1` is executed, and the remaining `elif` and `else` branches are skipped. If `condition1` is false, then `condition2` is evaluated. If it's true, `statement2` is executed, and so on.\n",
        "\n",
        "The `elif` statements provide an alternative path when the previous conditions are not satisfied, allowing for multiple conditional branches in a more concise and organized manner."
      ],
      "metadata": {
        "id": "ZuRaJeMadoky"
      }
    },
    {
      "cell_type": "code",
      "source": [
        "a = 33\n",
        "b = 33\n",
        "if b > a:\n",
        "  print(\"b is greater than a\")\n",
        "elif a == b:\n",
        "  print(\"a and b are equal\")"
      ],
      "metadata": {
        "colab": {
          "base_uri": "https://localhost:8080/"
        },
        "id": "SU3R2CaPd2Tx",
        "outputId": "ca7cf852-528d-4b1e-b5c1-f02fcff739db"
      },
      "execution_count": 31,
      "outputs": [
        {
          "output_type": "stream",
          "name": "stdout",
          "text": [
            "a and b are equal\n"
          ]
        }
      ]
    },
    {
      "cell_type": "code",
      "source": [
        "a = 200\n",
        "b = 33\n",
        "if b > a:\n",
        "  print(\"b is greater than a\")\n",
        "elif a == b:\n",
        "  print(\"a and b are equal\")\n",
        "else:\n",
        "  print(\"a is greater than\" )"
      ],
      "metadata": {
        "colab": {
          "base_uri": "https://localhost:8080/"
        },
        "id": "TlBWWKPCd-6Z",
        "outputId": "17d276b2-b2ae-4a67-b58b-7e625fa58905"
      },
      "execution_count": 33,
      "outputs": [
        {
          "output_type": "stream",
          "name": "stdout",
          "text": [
            "a is greater than\n"
          ]
        }
      ]
    },
    {
      "cell_type": "markdown",
      "source": [
        "Example"
      ],
      "metadata": {
        "id": "7uJMxD1SeHPx"
      }
    },
    {
      "cell_type": "code",
      "source": [
        "a = 200\n",
        "b = 33\n",
        "if b > a:\n",
        "  print(\"b is greater than a\")\n",
        "else:\n",
        "  print(\"b is not greater than a\")"
      ],
      "metadata": {
        "colab": {
          "base_uri": "https://localhost:8080/"
        },
        "id": "2Z-omiwpeJMI",
        "outputId": "2a4648ab-285a-49b3-a1e9-d8b8a6bc3a66"
      },
      "execution_count": 34,
      "outputs": [
        {
          "output_type": "stream",
          "name": "stdout",
          "text": [
            "b is not greater than a\n"
          ]
        }
      ]
    }
  ]
}