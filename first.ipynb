{
  "nbformat": 4,
  "nbformat_minor": 0,
  "metadata": {
    "colab": {
      "provenance": [],
      "gpuType": "T4"
    },
    "kernelspec": {
      "name": "python3",
      "display_name": "Python 3"
    },
    "language_info": {
      "name": "python"
    },
    "accelerator": "GPU",
    "gpuClass": "standard"
  },
  "cells": [
    {
      "cell_type": "markdown",
      "source": [
        "# **Creating Variables**\n",
        "\n",
        "- Python has no command for declaring a variable.\n",
        "\n",
        "- A variable is created the moment you first assign a value to it.\n",
        "\n"
      ],
      "metadata": {
        "id": "BeCR2iyyFpQl"
      }
    },
    {
      "cell_type": "code",
      "source": [
        "x = 5\n",
        "y = \"John\"\n",
        "print(x)\n",
        "print(y)"
      ],
      "metadata": {
        "id": "tqRvpibf8XAv",
        "colab": {
          "base_uri": "https://localhost:8080/"
        },
        "outputId": "b8c93753-bdfb-4d84-c5bd-63bbf37e4f8c"
      },
      "execution_count": 1,
      "outputs": [
        {
          "output_type": "stream",
          "name": "stdout",
          "text": [
            "5\n",
            "John\n"
          ]
        }
      ]
    },
    {
      "cell_type": "markdown",
      "source": [
        "# ***Explaination*** \n",
        "In the given code, two variables are defined: x and y.\n",
        "\n",
        "The line x = 5 assigns the value 5 to the variable x. This means that the variable x now holds the value 5. The = symbol is used in programming to assign a value to a variable.\n",
        "\n",
        "The line y = \"John\" assigns the string value \"John\" to the variable y. So, the variable y now contains the string \"John\".\n",
        "\n",
        "The print() function is then used to display the values of the variables x and y. The print(x) statement prints the value of x, which is 5, and the print(y) statement prints the value of y, which is \"John\"."
      ],
      "metadata": {
        "id": "b_9bpY_H7zz8"
      }
    },
    {
      "cell_type": "markdown",
      "source": [],
      "metadata": {
        "id": "miFTLuCh9EX5"
      }
    },
    {
      "cell_type": "code",
      "source": [
        "x=3\n",
        "print(x)"
      ],
      "metadata": {
        "colab": {
          "base_uri": "https://localhost:8080/"
        },
        "id": "DVYAqVbz8uQZ",
        "outputId": "35132e4a-2fd7-47b0-f30e-d9f34453c2ac"
      },
      "execution_count": null,
      "outputs": [
        {
          "output_type": "stream",
          "name": "stdout",
          "text": [
            "3\n"
          ]
        }
      ]
    },
    {
      "cell_type": "code",
      "source": [
        "8-6"
      ],
      "metadata": {
        "colab": {
          "base_uri": "https://localhost:8080/"
        },
        "id": "hXfGjlidFi79",
        "outputId": "9b3cbf79-cfac-404e-9b82-4f403d6b0070"
      },
      "execution_count": null,
      "outputs": [
        {
          "output_type": "execute_result",
          "data": {
            "text/plain": [
              "2"
            ]
          },
          "metadata": {},
          "execution_count": 2
        }
      ]
    },
    {
      "cell_type": "code",
      "source": [
        "m=7\n",
        "n=89\n",
        "c=m+n\n",
        "print(c)"
      ],
      "metadata": {
        "colab": {
          "base_uri": "https://localhost:8080/"
        },
        "id": "_kj4nMeJFzgs",
        "outputId": "9401f9f9-9492-4f9d-f1f1-28888ac0998c"
      },
      "execution_count": null,
      "outputs": [
        {
          "output_type": "stream",
          "name": "stdout",
          "text": [
            "96\n"
          ]
        }
      ]
    },
    {
      "cell_type": "code",
      "source": [
        "m=input(\"enter 1st number\");\n",
        "print(m)"
      ],
      "metadata": {
        "id": "qFufRo2KFop1"
      },
      "execution_count": null,
      "outputs": []
    }
  ]
}