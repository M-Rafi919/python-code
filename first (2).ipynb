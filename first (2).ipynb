{
  "nbformat": 4,
  "nbformat_minor": 0,
  "metadata": {
    "colab": {
      "provenance": [],
      "gpuType": "T4",
      "toc_visible": true
    },
    "kernelspec": {
      "name": "python3",
      "display_name": "Python 3"
    },
    "language_info": {
      "name": "python"
    },
    "accelerator": "GPU",
    "gpuClass": "standard"
  },
  "cells": [
    {
      "cell_type": "markdown",
      "source": [
        "# **Creating Variables**\n",
        "\n",
        "- Python has no command for declaring a variable.\n",
        "\n",
        "- A variable is created the moment you first assign a value to it.\n",
        "\n"
      ],
      "metadata": {
        "id": "BeCR2iyyFpQl"
      }
    },
    {
      "cell_type": "code",
      "source": [
        "x = 5\n",
        "y = \"John\"\n",
        "print(x)\n",
        "print(y)"
      ],
      "metadata": {
        "id": "tqRvpibf8XAv",
        "colab": {
          "base_uri": "https://localhost:8080/"
        },
        "outputId": "b8c93753-bdfb-4d84-c5bd-63bbf37e4f8c"
      },
      "execution_count": 1,
      "outputs": [
        {
          "output_type": "stream",
          "name": "stdout",
          "text": [
            "5\n",
            "John\n"
          ]
        }
      ]
    },
    {
      "cell_type": "markdown",
      "source": [
        "# ***Explaination*** \n",
        "In the given code, two variables are defined: x and y.\n",
        "\n",
        "The line x = 5 assigns the value 5 to the variable x. This means that the variable x now holds the value 5. The = symbol is used in programming to assign a value to a variable.\n",
        "\n",
        "The line y = \"John\" assigns the string value \"John\" to the variable y. So, the variable y now contains the string \"John\".\n",
        "\n",
        "The print() function is then used to display the values of the variables x and y. The print(x) statement prints the value of x, which is 5, and the print(y) statement prints the value of y, which is \"John\"."
      ],
      "metadata": {
        "id": "b_9bpY_H7zz8"
      }
    },
    {
      "cell_type": "markdown",
      "source": [],
      "metadata": {
        "id": "miFTLuCh9EX5"
      }
    },
    {
      "cell_type": "markdown",
      "source": [
        "# ***The continue Statement***\n",
        "With the continue statement we can stop the current iteration, and continue with the next:"
      ],
      "metadata": {
        "id": "P7vE2TETEQRj"
      }
    },
    {
      "cell_type": "code",
      "source": [
        "i = 0\n",
        "while i < 6:\n",
        "  i += 1\n",
        "  if i == 3:\n",
        "    continue\n",
        "  print(i)"
      ],
      "metadata": {
        "colab": {
          "base_uri": "https://localhost:8080/"
        },
        "id": "x2TTaOEsMPZx",
        "outputId": "e172edf4-30ac-49d1-e34d-e52742324806"
      },
      "execution_count": 2,
      "outputs": [
        {
          "output_type": "stream",
          "name": "stdout",
          "text": [
            "1\n",
            "2\n",
            "4\n",
            "5\n",
            "6\n"
          ]
        }
      ]
    },
    {
      "cell_type": "markdown",
      "source": [
        "# ***The else Statement***\n",
        "\n",
        "With the else statement we can run a block of code once when the condition no longer is true:"
      ],
      "metadata": {
        "id": "7shAXe7PMfVI"
      }
    },
    {
      "cell_type": "code",
      "source": [
        "i = 1\n",
        "while i < 6:\n",
        "  print(i)\n",
        "  i += 1\n",
        "else:\n",
        "  print(\"i is no longer less than 6\")"
      ],
      "metadata": {
        "colab": {
          "base_uri": "https://localhost:8080/"
        },
        "id": "ZFFtT03NMmfx",
        "outputId": "9082f18d-cc4e-4ebf-ca28-366fb6cc54a2"
      },
      "execution_count": 3,
      "outputs": [
        {
          "output_type": "stream",
          "name": "stdout",
          "text": [
            "1\n",
            "2\n",
            "3\n",
            "4\n",
            "5\n",
            "i is no longer less than 6\n"
          ]
        }
      ]
    }
  ]
}