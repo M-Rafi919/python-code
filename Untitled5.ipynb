{
  "nbformat": 4,
  "nbformat_minor": 0,
  "metadata": {
    "colab": {
      "provenance": [],
      "mount_file_id": "12eSs1RVxZs3eo5mcwkVFl4zBfLosknNb",
      "authorship_tag": "ABX9TyMPxciU+Jg05V7Q3sSRFotg",
      "include_colab_link": true
    },
    "kernelspec": {
      "name": "python3",
      "display_name": "Python 3"
    },
    "language_info": {
      "name": "python"
    }
  },
  "cells": [
    {
      "cell_type": "markdown",
      "metadata": {
        "id": "view-in-github",
        "colab_type": "text"
      },
      "source": [
        "<a href=\"https://colab.research.google.com/github/M-Rafi919/python-code/blob/main/Untitled5.ipynb\" target=\"_parent\"><img src=\"https://colab.research.google.com/assets/colab-badge.svg\" alt=\"Open In Colab\"/></a>"
      ]
    },
    {
      "cell_type": "markdown",
      "source": [
        "# **Here's an example of a small application code in Python that calculates the factorial of a number using a function**\n",
        "\n",
        "```python\n",
        "def factorial(n):\n",
        "    if n == 0:\n",
        "        return 1\n",
        "    else:\n",
        "        return n * factorial(n - 1)\n",
        "\n",
        "number = int(input(\"Enter a number: \"))\n",
        "result = factorial(number)\n",
        "print(\"The factorial of\", number, \"is\", result)\n",
        "```\n",
        "\n",
        "In this code, we define a function called `factorial` that calculates the factorial of a given number `n`. It uses recursion to calculate the factorial by multiplying `n` with the factorial of `n-1` until the base case of `n=0` is reached.\n",
        "\n",
        "The program prompts the user to enter a number, which is then passed to the `factorial` function. The result is stored in the `result` variable and displayed on the screen.\n",
        "\n",
        "You can run this code and test it by entering different numbers to calculate their factorials.\n",
        "\n",
        "# **If you want to help from me in any confusion in statement then contact me **\n"
      ],
      "metadata": {
        "id": "YaUXtmUbozd9"
      }
    },
    {
      "cell_type": "code",
      "source": [
        "def factorial(n):\n",
        "    if n == 0:\n",
        "        return 1\n",
        "    else:\n",
        "        return n * factorial(n - 1)\n",
        "\n",
        "number = int(input(\"Enter a number: \"))\n",
        "result = factorial(number)\n",
        "print(\"The factorial of\", number, \"is\", result)\n"
      ],
      "metadata": {
        "colab": {
          "base_uri": "https://localhost:8080/"
        },
        "id": "3PW9NvIRo8LL",
        "outputId": "ab575069-b56e-43b9-833e-b647a6e83ef9"
      },
      "execution_count": 1,
      "outputs": [
        {
          "output_type": "stream",
          "name": "stdout",
          "text": [
            "Enter a number: 11\n",
            "The factorial of 11 is 39916800\n"
          ]
        }
      ]
    }
  ]
}